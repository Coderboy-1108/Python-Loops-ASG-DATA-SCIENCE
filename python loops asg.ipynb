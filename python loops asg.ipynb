{
 "cells": [
  {
   "cell_type": "code",
   "execution_count": 1,
   "id": "bc6e8e28-35b3-4081-88ef-43b95c5b87a6",
   "metadata": {},
   "outputs": [
    {
     "name": "stdout",
     "output_type": "stream",
     "text": [
      "0\n",
      "1\n",
      "2\n",
      "3\n",
      "4\n",
      "5\n",
      "6\n",
      "7\n",
      "8\n",
      "9\n",
      "10\n"
     ]
    }
   ],
   "source": [
    "# 1. Write a Python program to print the numbers from 1 to 10 using a `for` loop.\n",
    "for num in range(11) :\n",
    "    print(num)"
   ]
  },
  {
   "cell_type": "code",
   "execution_count": 2,
   "id": "1f850ae5-a160-4910-90b5-794927b59ea3",
   "metadata": {},
   "outputs": [
    {
     "name": "stdout",
     "output_type": "stream",
     "text": [
      "15\n"
     ]
    }
   ],
   "source": [
    "# 2. Create a program that calculates the sum of all numbers in a list using a `for` loop.\n",
    "li = [1,2,3,4,5]\n",
    "sum_ = 0\n",
    "for num in li :\n",
    "    sum_ += num\n",
    "print(sum_)"
   ]
  },
  {
   "cell_type": "code",
   "execution_count": 3,
   "id": "6ff338ed-7b70-4ab8-800c-d115d19bad7b",
   "metadata": {},
   "outputs": [
    {
     "name": "stdout",
     "output_type": "stream",
     "text": [
      "v\n",
      "a\n",
      "h\n",
      "g\n",
      "a\n",
      "r\n"
     ]
    }
   ],
   "source": [
    "# 3. Write a program to print the characters of a string in reverse order using a `for` loop.\n",
    "strg = \"raghav\"\n",
    "for char in strg[::-1] :\n",
    "    print(char)"
   ]
  },
  {
   "cell_type": "code",
   "execution_count": 4,
   "id": "dc8b0463-fe46-4ddd-98d1-a61329c6765b",
   "metadata": {},
   "outputs": [
    {
     "name": "stdin",
     "output_type": "stream",
     "text": [
      "Enter a number :  5\n"
     ]
    },
    {
     "name": "stdout",
     "output_type": "stream",
     "text": [
      "120\n"
     ]
    }
   ],
   "source": [
    "# 4. Develop a program that finds the factorial of a given number using a `for` loop.\n",
    "num = int(input(\"Enter a number : \"))\n",
    "fact = 1\n",
    "for i in range(num, 0, -1) :\n",
    "    fact *= i\n",
    "print(fact)"
   ]
  },
  {
   "cell_type": "code",
   "execution_count": 5,
   "id": "d55f8eef-3692-417d-8572-778540218ed9",
   "metadata": {},
   "outputs": [
    {
     "name": "stdin",
     "output_type": "stream",
     "text": [
      "Enter a number :  12\n"
     ]
    },
    {
     "name": "stdout",
     "output_type": "stream",
     "text": [
      "12  x  1  =  12\n",
      "12  x  2  =  24\n",
      "12  x  3  =  36\n",
      "12  x  4  =  48\n",
      "12  x  5  =  60\n",
      "12  x  6  =  72\n",
      "12  x  7  =  84\n",
      "12  x  8  =  96\n",
      "12  x  9  =  108\n",
      "12  x  10  =  120\n"
     ]
    }
   ],
   "source": [
    "# 5. Create a program to print the multiplication table of a given number using a `for` loop.\n",
    "num = int(input(\"Enter a number : \"))\n",
    "for i in range(1, 11) :\n",
    "    print(num, \" x \", i, \" = \", num * i)"
   ]
  },
  {
   "cell_type": "code",
   "execution_count": 6,
   "id": "779d04dd-07ee-48f0-9375-4435a0fb658b",
   "metadata": {},
   "outputs": [
    {
     "name": "stdout",
     "output_type": "stream",
     "text": [
      "4 4\n"
     ]
    }
   ],
   "source": [
    "# 6. Write a program that counts the number of even and odd numbers in a list using a `for` loop.\n",
    "li = [1, 2, 3, 4, 5, 6, 7, 8]\n",
    "count_even = 0\n",
    "count_odd = 0\n",
    "for num in li :\n",
    "    if num % 2 == 0:\n",
    "        count_even += 1\n",
    "    else :\n",
    "        count_odd += 1\n",
    "print(count_even, count_odd)"
   ]
  },
  {
   "cell_type": "code",
   "execution_count": 7,
   "id": "00df07e6-a4ec-4eb3-ab06-d362539ac75d",
   "metadata": {},
   "outputs": [
    {
     "name": "stdout",
     "output_type": "stream",
     "text": [
      "1\n",
      "4\n",
      "9\n",
      "16\n",
      "25\n"
     ]
    }
   ],
   "source": [
    "# 7. Develop a program that prints the squares of numbers from 1 to 5 using a `for` loop.\n",
    "for i in range(1,6) :\n",
    "    print(i ** 2)"
   ]
  },
  {
   "cell_type": "code",
   "execution_count": 8,
   "id": "2510bedd-1bf7-4c27-aa9d-f06179de5d10",
   "metadata": {},
   "outputs": [
    {
     "name": "stdin",
     "output_type": "stream",
     "text": [
      "Enter String :  raghav\n"
     ]
    },
    {
     "name": "stdout",
     "output_type": "stream",
     "text": [
      "6\n",
      "6\n",
      "6\n"
     ]
    }
   ],
   "source": [
    "# 8. Create a program to find the length of a string without using the `len()` function.\n",
    "def length(string, count = 0):\n",
    "    if string == \"\" :\n",
    "        return count\n",
    "\n",
    "    return length(string[1:], count + 1)\n",
    "\n",
    "strg = input(\"Enter String : \")\n",
    "print(length(strg))\n",
    "\n",
    "def string_length(s):\n",
    "    count = 0\n",
    "    i = 0\n",
    "    while s[i:]:\n",
    "        count += 1\n",
    "        i += 1\n",
    "    return count\n",
    "\n",
    "print(string_length(strg))\n",
    "\n",
    "count = 0\n",
    "i = 0\n",
    "try :\n",
    "    while strg[i] :\n",
    "        i += 1\n",
    "        count += 1\n",
    "except IndexError :\n",
    "    print(count)"
   ]
  },
  {
   "cell_type": "code",
   "execution_count": 9,
   "id": "adea2c14-e8cb-41c7-a708-d64354b41019",
   "metadata": {},
   "outputs": [
    {
     "name": "stdout",
     "output_type": "stream",
     "text": [
      "3.0\n"
     ]
    }
   ],
   "source": [
    "# 9. Write a program that calculates the average of a list of numbers using a `for` loop.\n",
    "li = [1, 2, 3, 4, 5]\n",
    "sum_ = 0\n",
    "for num in li :\n",
    "    sum_ += num\n",
    "print(sum_/len(li))"
   ]
  },
  {
   "cell_type": "code",
   "execution_count": 10,
   "id": "06129b13-fdbe-40b9-b8bf-26f141886d2d",
   "metadata": {},
   "outputs": [
    {
     "name": "stdin",
     "output_type": "stream",
     "text": [
      "Enter nth :  9\n"
     ]
    },
    {
     "name": "stdout",
     "output_type": "stream",
     "text": [
      "0\n",
      "1\n",
      "1\n",
      "2\n",
      "3\n",
      "5\n",
      "8\n",
      "13\n",
      "21\n",
      "34\n",
      "55\n"
     ]
    }
   ],
   "source": [
    "# 10. Develop a program that prints the first `n` Fibonacci numbers using a `for` loop.\n",
    "n = int(input(\"Enter nth : \"))\n",
    "\n",
    "a = 0\n",
    "b = 1\n",
    "print(a)\n",
    "print(b)\n",
    "for i in range(n) :\n",
    "    c = a + b\n",
    "    print(c)\n",
    "    a = b\n",
    "    b = c "
   ]
  },
  {
   "cell_type": "code",
   "execution_count": 11,
   "id": "721798d0-789a-4718-a171-fd1dccc987e0",
   "metadata": {},
   "outputs": [
    {
     "name": "stdout",
     "output_type": "stream",
     "text": [
      "Contains duplicates\n"
     ]
    }
   ],
   "source": [
    "# 11. Write a program to check if a given list contains any duplicates using a `for` loop.\n",
    "li = [1, 2, 3, 4, 5, 6, 4]\n",
    "for num in li :\n",
    "    if li.count(num) > 1 :\n",
    "        print(\"Contains duplicates\")\n",
    "        break\n",
    "else :\n",
    "    print(\"Does not contain duplicates\")"
   ]
  },
  {
   "cell_type": "code",
   "execution_count": 12,
   "id": "7ef706f9-49c8-4d58-bbc5-13a9fabf44ec",
   "metadata": {},
   "outputs": [
    {
     "name": "stdout",
     "output_type": "stream",
     "text": [
      "2\n",
      "3\n",
      "5\n",
      "7\n",
      "11\n",
      "13\n",
      "17\n",
      "19\n",
      "23\n",
      "29\n"
     ]
    }
   ],
   "source": [
    "# 12. Create a program that prints the prime numbers in a given range using a `for` loop.\n",
    "def prime(number) :\n",
    "    lim = (number//2) + 1 \n",
    "    for n in range(2, lim) :\n",
    "        if number % n == 0 :\n",
    "            break\n",
    "    else :\n",
    "        return number\n",
    "   \n",
    "for num in range(2,30) :\n",
    "    if prime(num) :\n",
    "        print(prime(num))"
   ]
  },
  {
   "cell_type": "code",
   "execution_count": 13,
   "id": "bb168380-8c4d-46b9-80c1-95fb47d72b58",
   "metadata": {},
   "outputs": [
    {
     "name": "stdin",
     "output_type": "stream",
     "text": [
      "Enter a string :  raghav bansal\n"
     ]
    },
    {
     "name": "stdout",
     "output_type": "stream",
     "text": [
      "4\n"
     ]
    }
   ],
   "source": [
    "# 13. Develop a program that counts the number of vowels in a string using a `for` loop.\n",
    "strg = input(\"Enter a string : \")\n",
    "count = 0\n",
    "for char in strg :\n",
    "    if char.lower() in \"aeiou\" :\n",
    "        count += 1\n",
    "print(count)"
   ]
  },
  {
   "cell_type": "code",
   "execution_count": 14,
   "id": "5147c257-1547-4a0c-9d0e-a9218b86c002",
   "metadata": {},
   "outputs": [
    {
     "name": "stdout",
     "output_type": "stream",
     "text": [
      "6\n"
     ]
    }
   ],
   "source": [
    "# 14. Write a program to find the maximum element in a 2D list using a nested `for` loop.\n",
    "nestedLi = [[1,2], [3,4], [5,6]]\n",
    "max_num = 0\n",
    "for li in nestedLi :\n",
    "    for num in li :\n",
    "        if num > max_num :\n",
    "            max_num = num\n",
    "print(max_num)"
   ]
  },
  {
   "cell_type": "code",
   "execution_count": 15,
   "id": "3e30c702-b189-4734-b9b0-36d9b2b58424",
   "metadata": {},
   "outputs": [
    {
     "name": "stdout",
     "output_type": "stream",
     "text": [
      "[2, 3, 'raghav', 'raghav', 3]\n"
     ]
    }
   ],
   "source": [
    "# 15. Create a program that removes all occurrences of a specific element from a list using a `for` loop.\n",
    "li = [1, 2, 3, \"raghav\", \"raghav\", 3, 1]\n",
    "eleToRemove = 1\n",
    "modifiedLi = []\n",
    "for ele in li :\n",
    "    if ele != eleToRemove : \n",
    "        modifiedLi.append(ele)\n",
    "print(modifiedLi)"
   ]
  },
  {
   "cell_type": "code",
   "execution_count": 16,
   "id": "09060e04-742f-4a49-976e-add224c3c6f0",
   "metadata": {},
   "outputs": [
    {
     "name": "stdout",
     "output_type": "stream",
     "text": [
      "1 x 1 = 1\n",
      "1 x 2 = 2\n",
      "1 x 3 = 3\n",
      "1 x 4 = 4\n",
      "1 x 5 = 5\n",
      "1 x 6 = 6\n",
      "1 x 7 = 7\n",
      "1 x 8 = 8\n",
      "1 x 9 = 9\n",
      "1 x 10 = 10\n",
      "2 x 1 = 2\n",
      "2 x 2 = 4\n",
      "2 x 3 = 6\n",
      "2 x 4 = 8\n",
      "2 x 5 = 10\n",
      "2 x 6 = 12\n",
      "2 x 7 = 14\n",
      "2 x 8 = 16\n",
      "2 x 9 = 18\n",
      "2 x 10 = 20\n",
      "3 x 1 = 3\n",
      "3 x 2 = 6\n",
      "3 x 3 = 9\n",
      "3 x 4 = 12\n",
      "3 x 5 = 15\n",
      "3 x 6 = 18\n",
      "3 x 7 = 21\n",
      "3 x 8 = 24\n",
      "3 x 9 = 27\n",
      "3 x 10 = 30\n",
      "4 x 1 = 4\n",
      "4 x 2 = 8\n",
      "4 x 3 = 12\n",
      "4 x 4 = 16\n",
      "4 x 5 = 20\n",
      "4 x 6 = 24\n",
      "4 x 7 = 28\n",
      "4 x 8 = 32\n",
      "4 x 9 = 36\n",
      "4 x 10 = 40\n",
      "5 x 1 = 5\n",
      "5 x 2 = 10\n",
      "5 x 3 = 15\n",
      "5 x 4 = 20\n",
      "5 x 5 = 25\n",
      "5 x 6 = 30\n",
      "5 x 7 = 35\n",
      "5 x 8 = 40\n",
      "5 x 9 = 45\n",
      "5 x 10 = 50\n"
     ]
    }
   ],
   "source": [
    "# 16. Develop a program that generates a multiplication table for numbers from 1 to 5 using a nested `for` loop.\n",
    "for num in range(1,6) :\n",
    "    for i in range(1, 11) :\n",
    "        print(num, \"x\", i, \"=\", num * i)"
   ]
  },
  {
   "cell_type": "code",
   "execution_count": 17,
   "id": "7d62a720-6bf4-4163-9e28-94429fe8dadc",
   "metadata": {},
   "outputs": [
    {
     "name": "stdout",
     "output_type": "stream",
     "text": [
      "0.0\n",
      "17.77777777777778\n",
      "-1.1111111111111112\n",
      "-38.333333333333336\n",
      "-7.222222222222222\n"
     ]
    }
   ],
   "source": [
    "# 17. Write a program that converts a list of Fahrenheit temperatures to Celsius using a `for` loop.\n",
    "li = [32, 0, 34, 101, 45]\n",
    "for num in li :\n",
    "    celcius = (32 - num) * (5/9)\n",
    "    print(celcius)"
   ]
  },
  {
   "cell_type": "code",
   "execution_count": 18,
   "id": "6eb602d6-a677-4dc2-8860-4994b8ec418c",
   "metadata": {},
   "outputs": [
    {
     "name": "stdout",
     "output_type": "stream",
     "text": [
      "3\n",
      "4\n",
      "raghav\n"
     ]
    }
   ],
   "source": [
    "# 18. Create a program to print the common elements from two lists using a `for` loop.\n",
    "li1 = [1, 2, 3, 4, \"raghav\"]\n",
    "li2 = [3, 4, \"raghav\", 6, 9, 10]\n",
    "for ele in li1 :\n",
    "    if ele in li2 :\n",
    "        print(ele)"
   ]
  },
  {
   "cell_type": "code",
   "execution_count": 19,
   "id": "8434f2ef-5b80-4db7-9ab9-b41d8ccfc1a9",
   "metadata": {},
   "outputs": [
    {
     "name": "stdout",
     "output_type": "stream",
     "text": [
      "*\n",
      "**\n",
      "***\n",
      "****\n",
      "*****\n",
      "******\n"
     ]
    }
   ],
   "source": [
    "# 19. Develop a program that prints the pattern of right-angled triangles using a `for` loop.\n",
    "i = 0\n",
    "while i <= 5 :\n",
    "    j = 0\n",
    "    while j <= i :\n",
    "        print(\"*\", end=\"\")\n",
    "        j += 1\n",
    "    print()\n",
    "    i += 1"
   ]
  },
  {
   "cell_type": "code",
   "execution_count": 20,
   "id": "1b9837b6-10d2-4743-bc93-47cc7c79841b",
   "metadata": {},
   "outputs": [
    {
     "name": "stdin",
     "output_type": "stream",
     "text": [
      "Enter the first number:  5\n",
      "Enter the second number:  3\n"
     ]
    },
    {
     "name": "stdout",
     "output_type": "stream",
     "text": [
      "1\n"
     ]
    }
   ],
   "source": [
    "# 20. Write a program to find the greatest common divisor (GCD) of two numbers using a `for` loop.\n",
    "def gcd(a, b):\n",
    "    # to make sure a is greater than or equal to a\n",
    "    if a < b:\n",
    "        a, b = b, a\n",
    "\n",
    "    for i in range(1, b + 1):\n",
    "        if a % i == 0 and b % i == 0:\n",
    "            gcd_result = i\n",
    "\n",
    "    return gcd_result\n",
    "num1 = int(input(\"Enter the first number: \"))\n",
    "num2 = int(input(\"Enter the second number: \"))\n",
    "print(gcd(num1, num2))"
   ]
  },
  {
   "cell_type": "code",
   "execution_count": 21,
   "id": "6cd26c2a-8f8f-4d21-90d0-cd480aaa332f",
   "metadata": {},
   "outputs": [
    {
     "name": "stdout",
     "output_type": "stream",
     "text": [
      "Number: 13, Digit Sum: 4\n",
      "Number: 62, Digit Sum: 8\n",
      "Number: 33, Digit Sum: 6\n",
      "Number: 48, Digit Sum: 12\n",
      "Number: 57, Digit Sum: 12\n"
     ]
    }
   ],
   "source": [
    "# 21. Create a program that calculates the sum of the digits of numbers in a list using a list comprehension.\n",
    "def digit_sum(number):\n",
    "    return sum(int(digit) for digit in str(number) if digit.isdigit())\n",
    "\n",
    "numbers = [13, 62, 33, 48, 57]\n",
    "digit_sums = [digit_sum(number) for number in numbers]\n",
    "for i, number in enumerate(numbers):\n",
    "    print(f\"Number: {number}, Digit Sum: {digit_sums[i]}\")"
   ]
  },
  {
   "cell_type": "code",
   "execution_count": 22,
   "id": "9e2f682f-0812-4580-83c8-93e58f85fed8",
   "metadata": {},
   "outputs": [
    {
     "name": "stdin",
     "output_type": "stream",
     "text": [
      "Enter a number :  202\n"
     ]
    },
    {
     "name": "stdout",
     "output_type": "stream",
     "text": [
      "[2, 101]\n"
     ]
    }
   ],
   "source": [
    "# 22. Write a program to find the prime factors of a given number using a `for` loop and list comprehension.\n",
    "n = int(input(\"Enter a number : \"))\n",
    "factors = []\n",
    "divisor = 2\n",
    "[factors.append(divisor) for divisor in range(2, n + 1) if n % divisor == 0 and not any(divisor % f == 0 for f in factors)]\n",
    "print(factors)\n"
   ]
  },
  {
   "cell_type": "code",
   "execution_count": 23,
   "id": "ca2ff245-e018-4d8b-af64-4397e857a1cb",
   "metadata": {},
   "outputs": [
    {
     "name": "stdout",
     "output_type": "stream",
     "text": [
      "[3, 4]\n"
     ]
    }
   ],
   "source": [
    "# 23. Develop a program that extracts unique elements from a list and stores them in a new list using a list comprehension.\n",
    "li = [2,3,4,2,6,8,5,2,5,8,6]\n",
    "uniqueEleLi = [num for num in li if li.count(num) < 2]\n",
    "print(uniqueEleLi)"
   ]
  },
  {
   "cell_type": "code",
   "execution_count": 24,
   "id": "67f4e90e-c95a-4197-95f8-b217f893acc8",
   "metadata": {},
   "outputs": [
    {
     "name": "stdout",
     "output_type": "stream",
     "text": [
      "[11, 22]\n"
     ]
    }
   ],
   "source": [
    "# 24. Create a program that generates a list of all palindromic numbers up to a specified limit using a list comprehension.\n",
    "li = [num for num in range(30) if str(num) == str(num)[::-1] and len(str(num)) >= 2]\n",
    "print(li)"
   ]
  },
  {
   "cell_type": "code",
   "execution_count": 25,
   "id": "5c37cd75-68a9-4420-ab7b-e17db44243f9",
   "metadata": {},
   "outputs": [
    {
     "name": "stdout",
     "output_type": "stream",
     "text": [
      "[1, 2, 3, 4, 5]\n"
     ]
    }
   ],
   "source": [
    "# 25. Write a program to flatten a nested list using list comprehension.\n",
    "li1 = [[1,2], [3,4], [5]]\n",
    "li2 = [num for ele in li1 for num in ele]\n",
    "print(li2)"
   ]
  },
  {
   "cell_type": "code",
   "execution_count": 26,
   "id": "160c1ecd-22bd-4249-b792-b87efd39dce6",
   "metadata": {},
   "outputs": [
    {
     "name": "stdout",
     "output_type": "stream",
     "text": [
      "12\n",
      "9\n"
     ]
    }
   ],
   "source": [
    "# 26. Develop a program that computes the sum of even and odd numbers in a list separately using list comprehension.\n",
    "def sumNums(li) :\n",
    "    return sum(li)\n",
    "li = [1, 2, 3, 4, 5, 6]\n",
    "sumLiEven = sumNums([num for num in li if num % 2 == 0])    \n",
    "print(sumLiEven)\n",
    "print(sumNums(li) - sumLiEven)\n"
   ]
  },
  {
   "cell_type": "code",
   "execution_count": 27,
   "id": "1f9a4469-3f5c-44f5-acbb-16af91fda648",
   "metadata": {},
   "outputs": [
    {
     "name": "stdout",
     "output_type": "stream",
     "text": [
      "[1, 9, 25, 49, 81]\n"
     ]
    }
   ],
   "source": [
    "# 27. Create a program that generates a list of squares of odd numbers between 1 and 10 using list comprehension.\n",
    "li = [num**2 for num in range(11) if num % 2 != 0]\n",
    "print(li)"
   ]
  },
  {
   "cell_type": "code",
   "execution_count": 28,
   "id": "441875dc-fdbf-4bd5-a7ad-64c8f211f6c3",
   "metadata": {},
   "outputs": [
    {
     "name": "stdout",
     "output_type": "stream",
     "text": [
      "{'name': 'Raghav Bansal', 'age': 16, 'love': 'coding'}\n"
     ]
    }
   ],
   "source": [
    "# 28. Write a program that combines two lists into a dictionary using list comprehension.\n",
    "li1 = [\"name\", \"age\", \"love\"]\n",
    "li2 = [\"Raghav Bansal\", 16, \"coding\"]\n",
    "d = {li1[i] : li2[i] for i in range(3)}\n",
    "print(d)"
   ]
  },
  {
   "cell_type": "code",
   "execution_count": 29,
   "id": "d201823c-e65c-4c30-8b81-4edf8110c8fb",
   "metadata": {},
   "outputs": [
    {
     "name": "stdout",
     "output_type": "stream",
     "text": [
      "['a', 'e', 'i', 'o', 'u']\n"
     ]
    }
   ],
   "source": [
    "# 29. Develop a program that extracts the vowels from a string and stores them in a list using list comprehension.\n",
    "strg = \"rauhbdh eauhe iou\"\n",
    "vowels = [char for char in strg if char in \"aeiou\"]\n",
    "[vowels.remove(char) for char in vowels if vowels.count(char) > 1]\n",
    "print(vowels)\n"
   ]
  },
  {
   "cell_type": "code",
   "execution_count": 30,
   "id": "2a3beb33-1aea-4507-8837-135765a5831c",
   "metadata": {},
   "outputs": [
    {
     "name": "stdout",
     "output_type": "stream",
     "text": [
      "['242', '132', '1']\n"
     ]
    }
   ],
   "source": [
    "# 30. Create a program that removes all non-numeric characters from a list of strings using list comprehension.\n",
    "li = [\"r242\", \"132\",  \"vrfvrb1\"]\n",
    "modifiedLi = [''.join(char for char in strg if char.isdigit()) for strg in li]\n",
    "print(modifiedLi)"
   ]
  },
  {
   "cell_type": "code",
   "execution_count": 32,
   "id": "3287232a-41ae-4756-91a1-5a5520a49f20",
   "metadata": {},
   "outputs": [
    {
     "name": "stdin",
     "output_type": "stream",
     "text": [
      "konse number tak list generate karni hai :  100\n"
     ]
    },
    {
     "name": "stdout",
     "output_type": "stream",
     "text": [
      "2\n",
      "3\n",
      "5\n",
      "7\n",
      "11\n",
      "13\n",
      "17\n",
      "19\n",
      "23\n",
      "29\n",
      "31\n",
      "37\n",
      "41\n",
      "43\n",
      "47\n",
      "53\n",
      "59\n",
      "61\n",
      "67\n",
      "71\n",
      "73\n",
      "79\n",
      "83\n",
      "89\n",
      "97\n"
     ]
    }
   ],
   "source": [
    "# 31. Write a program to generate a list of prime numbers using the Sieve of Eratosthenes algorithm and list comprehension.\n",
    "n = int(input(\"konse number tak list generate karni hai : \"))\n",
    "numbers = [True for _ in range(n + 1)]\n",
    "p = 2\n",
    "while p * p <= 100 :\n",
    "    if numbers[p] == True :\n",
    "        for i in range(p + 1, n + 1) :\n",
    "            if i % p == 0 :\n",
    "                numbers[i] = False\n",
    "    p += 1\n",
    "for k in range(2, n + 1) :\n",
    "    if numbers[k] :\n",
    "        print(k)"
   ]
  },
  {
   "cell_type": "code",
   "execution_count": 33,
   "id": "d5ccf298-0a75-4879-8783-e008f85371f9",
   "metadata": {},
   "outputs": [
    {
     "name": "stdin",
     "output_type": "stream",
     "text": [
      "Enter a number :  10\n"
     ]
    },
    {
     "name": "stdout",
     "output_type": "stream",
     "text": [
      "[3, 4, 5] [6, 8, 10]\n",
      "[(3, 4, 5), (6, 8, 10)]\n"
     ]
    }
   ],
   "source": [
    "# 32. Create a program that generates a list of all Pythagorean triplets up to a specified limit using list comprehension.\n",
    "\n",
    "# a^2 + b^2 = c^2\n",
    "\n",
    "def checkDuplicatesNested(fList, num) :\n",
    "    for i in range(len(fList)) :\n",
    "        if num**0.5 in fList[i] :\n",
    "            return False\n",
    "    return True\n",
    "\n",
    "n = int(input(\"Enter a number : \"))\n",
    "li = [x ** 2 for x in range(1, n + 1)]\n",
    "triplets = []\n",
    "for i in range(2, len(li)) :\n",
    "    target = li[i]\n",
    "    for j in range(i) :\n",
    "        c = target - li[j]\n",
    "        if c in li and checkDuplicatesNested(triplets, target):\n",
    "            triplets.append([int(li[j]**0.5), int(c**0.5), int(target**0.5)])\n",
    "print(*triplets)\n",
    "\n",
    "#or \n",
    "\n",
    "triplets = []\n",
    "for a in range(1, n + 1):\n",
    "    for b in range(a, n + 1):\n",
    "        c_squared = a**2 + b**2\n",
    "        c = int(c_squared**0.5)\n",
    "        if c <= n and c_squared == c**2:\n",
    "            triplets.append((a, b, c))\n",
    "print(triplets)"
   ]
  },
  {
   "cell_type": "code",
   "execution_count": 34,
   "id": "fd6ca0f8-cd7e-4415-8304-0eea2a8374c5",
   "metadata": {},
   "outputs": [
    {
     "name": "stdin",
     "output_type": "stream",
     "text": [
      " 10 20 30 40 40 40 40 40 50 1 1234\n"
     ]
    },
    {
     "name": "stdout",
     "output_type": "stream",
     "text": [
      "40\n",
      "140.45454545454547\n",
      "106.96969696969698\n"
     ]
    }
   ],
   "source": [
    "# 34. Write a program that calculates the mean, median, and mode of a list of numbers using list comprehension.\n",
    "li = list(map(int, input().split()))\n",
    "d = {}\n",
    "sum_ = 0\n",
    "\n",
    "for num in li :\n",
    "    if num not in d :\n",
    "        count = li.count(num)\n",
    "        d[count] = num  \n",
    "    sum_ += num\n",
    "\n",
    "mean = sum_ / len(li)\n",
    "mode = d[max(d)]\n",
    "print(mode)\n",
    "print(mean)\n",
    "print((2*mean + mode)/3)"
   ]
  },
  {
   "cell_type": "code",
   "execution_count": 35,
   "id": "eb2743fb-2a1a-4c76-a701-24b32ec3b59e",
   "metadata": {},
   "outputs": [
    {
     "name": "stdout",
     "output_type": "stream",
     "text": [
      "[[1], [1, 1], [1, 2, 1], [1, 3, 3, 1], [1, 4, 6, 4, 1], [1, 5, 10, 10, 5, 1], [1, 6, 15, 20, 15, 6, 1]]\n"
     ]
    }
   ],
   "source": [
    "# 35. Create a program that generates Pascal's triangle up to a specified number of rows using list comprehension.\n",
    "num_r = 5\n",
    "\n",
    "p_triangle = [[1], [1,1]]\n",
    "\n",
    "for i in range(2, num_r + 2) :\n",
    "    p_triangle.append([1])\n",
    "    for j in range(len(p_triangle[i - 1]) - 1) :\n",
    "        sum_ = p_triangle[i - 1][j] + p_triangle[i - 1][j + 1]\n",
    "        p_triangle[-1].append(sum_)\n",
    "    p_triangle[-1].append(1)\n",
    "\n",
    "print(p_triangle)"
   ]
  },
  {
   "cell_type": "code",
   "execution_count": 36,
   "id": "2d10c3df-06f3-4713-9671-ddec00656ad0",
   "metadata": {},
   "outputs": [
    {
     "name": "stdout",
     "output_type": "stream",
     "text": [
      "[1, 2, 6, 24, 120]\n",
      "sum of digits of 1 is 1\n",
      "sum of digits of 2 is 2\n",
      "sum of digits of 6 is 6\n",
      "sum of digits of 24 is 6\n",
      "sum of digits of 120 is 3\n"
     ]
    }
   ],
   "source": [
    "# 36. Develop a program that calculates the sum of the digits of a factorial of numbers from 1 to 5 using list comprehension.\n",
    "product = 1\n",
    "fac = []\n",
    "for i in range(1,6) :\n",
    "    product *= i\n",
    "    fac.append(product)\n",
    "print(fac)\n",
    "for num in fac :\n",
    "    if len(str(num)) > 1 :\n",
    "        sum_ = 0\n",
    "        for digit in str(num) :\n",
    "            sum_ += int(digit)\n",
    "        print(f\"sum of digits of {num} is {sum_}\")\n",
    "    else :\n",
    "        print(f\"sum of digits of {num} is {num}\")"
   ]
  },
  {
   "cell_type": "code",
   "execution_count": 37,
   "id": "6c5060ab-9553-4b98-ac3d-6a1ae4367cc9",
   "metadata": {},
   "outputs": [
    {
     "name": "stdin",
     "output_type": "stream",
     "text": [
      "Enter a string :  I love coding so much It is the best\n"
     ]
    },
    {
     "name": "stdout",
     "output_type": "stream",
     "text": [
      "coding 6\n"
     ]
    }
   ],
   "source": [
    "# 37. Write a program that finds the longest word in a sentence using list comprehension.\n",
    "strg = input(\"Enter a string : \").split()\n",
    "max_length = 0\n",
    "max_len_word = \"\"\n",
    "for word in strg :\n",
    "    if len(word) > max_length :\n",
    "        max_length = len(word)\n",
    "        max_len_word = word\n",
    "print(max_len_word, max_length)"
   ]
  },
  {
   "cell_type": "code",
   "execution_count": 38,
   "id": "9d688f1c-56a2-4e08-a1f8-84ed3b4dbceb",
   "metadata": {},
   "outputs": [
    {
     "name": "stdout",
     "output_type": "stream",
     "text": [
      "['orange juice', 'watermelon slice']\n"
     ]
    }
   ],
   "source": [
    "# 38. Create a program that filters a list of strings to include only those with more than three vowels using list comprehension.\n",
    "list_of_strings = [\"apple\", \"banana\", \"orange juice\", \"grape\", \"kiwi\", \"watermelon slice\"]\n",
    "def count_vowels(word) :\n",
    "    vowels = [\"a\", \"e\", \"i\", \"o\", \"u\"]\n",
    "    word = word.lower()\n",
    "    count = 0\n",
    "    for letter in word :\n",
    "        if letter in vowels :\n",
    "            count += 1\n",
    "    return count\n",
    "filtered_list = [word for word in list_of_strings if count_vowels(word) > 3]\n",
    "print(filtered_list)"
   ]
  },
  {
   "cell_type": "code",
   "execution_count": 39,
   "id": "ab14df40-cb44-4898-8168-6d69e98ce930",
   "metadata": {},
   "outputs": [
    {
     "name": "stdout",
     "output_type": "stream",
     "text": [
      "[0, 1, 2, 3, 4, 5, 6, 7, 8, 9, 1, 2, 3, 4, 5, 6, 7, 8, 9, 10, 2, 3, 4, 5, 6, 7, 8, 9, 10, 11, 3, 4, 5, 6, 7, 8, 9, 10, 11, 12, 4, 5, 6, 7, 8, 9, 10, 11, 12, 13, 5, 6, 7, 8, 9, 10, 11, 12, 13, 14, 6, 7, 8, 9, 10, 11, 12, 13, 14, 15, 7, 8, 9, 10, 11, 12, 13, 14, 15, 16, 8, 9, 10, 11, 12, 13, 14, 15, 16, 17, 9, 10, 11, 12, 13, 14, 15, 16, 17, 18, 1, 2, 3, 4, 5, 6, 7, 8, 9, 10, 2, 3, 4, 5, 6, 7, 8, 9, 10, 11, 3, 4, 5, 6, 7, 8, 9, 10, 11, 12, 4, 5, 6, 7, 8, 9, 10, 11, 12, 13, 5, 6, 7, 8, 9, 10, 11, 12, 13, 14, 6, 7, 8, 9, 10, 11, 12, 13, 14, 15, 7, 8, 9, 10, 11, 12, 13, 14, 15, 16, 8, 9, 10, 11, 12, 13, 14, 15, 16, 17, 9, 10, 11, 12, 13, 14, 15, 16, 17, 18, 10, 11, 12, 13, 14, 15, 16, 17, 18, 19, 2, 3, 4, 5, 6, 7, 8, 9, 10, 11, 3, 4, 5, 6, 7, 8, 9, 10, 11, 12, 4, 5, 6, 7, 8, 9, 10, 11, 12, 13, 5, 6, 7, 8, 9, 10, 11, 12, 13, 14, 6, 7, 8, 9, 10, 11, 12, 13, 14, 15, 7, 8, 9, 10, 11, 12, 13, 14, 15, 16, 8, 9, 10, 11, 12, 13, 14, 15, 16, 17, 9, 10, 11, 12, 13, 14, 15, 16, 17, 18, 10, 11, 12, 13, 14, 15, 16, 17, 18, 19, 11, 12, 13, 14, 15, 16, 17, 18, 19, 20, 3, 4, 5, 6, 7, 8, 9, 10, 11, 12, 4, 5, 6, 7, 8, 9, 10, 11, 12, 13, 5, 6, 7, 8, 9, 10, 11, 12, 13, 14, 6, 7, 8, 9, 10, 11, 12, 13, 14, 15, 7, 8, 9, 10, 11, 12, 13, 14, 15, 16, 8, 9, 10, 11, 12, 13, 14, 15, 16, 17, 9, 10, 11, 12, 13, 14, 15, 16, 17, 18, 10, 11, 12, 13, 14, 15, 16, 17, 18, 19, 11, 12, 13, 14, 15, 16, 17, 18, 19, 20, 12, 13, 14, 15, 16, 17, 18, 19, 20, 21, 4, 5, 6, 7, 8, 9, 10, 11, 12, 13, 5, 6, 7, 8, 9, 10, 11, 12, 13, 14, 6, 7, 8, 9, 10, 11, 12, 13, 14, 15, 7, 8, 9, 10, 11, 12, 13, 14, 15, 16, 8, 9, 10, 11, 12, 13, 14, 15, 16, 17, 9, 10, 11, 12, 13, 14, 15, 16, 17, 18, 10, 11, 12, 13, 14, 15, 16, 17, 18, 19, 11, 12, 13, 14, 15, 16, 17, 18, 19, 20, 12, 13, 14, 15, 16, 17, 18, 19, 20, 21, 13, 14, 15, 16, 17, 18, 19, 20, 21, 22, 5, 6, 7, 8, 9, 10, 11, 12, 13, 14, 6, 7, 8, 9, 10, 11, 12, 13, 14, 15, 7, 8, 9, 10, 11, 12, 13, 14, 15, 16, 8, 9, 10, 11, 12, 13, 14, 15, 16, 17, 9, 10, 11, 12, 13, 14, 15, 16, 17, 18, 10, 11, 12, 13, 14, 15, 16, 17, 18, 19, 11, 12, 13, 14, 15, 16, 17, 18, 19, 20, 12, 13, 14, 15, 16, 17, 18, 19, 20, 21, 13, 14, 15, 16, 17, 18, 19, 20, 21, 22, 14, 15, 16, 17, 18, 19, 20, 21, 22, 23, 6, 7, 8, 9, 10, 11, 12, 13, 14, 15, 7, 8, 9, 10, 11, 12, 13, 14, 15, 16, 8, 9, 10, 11, 12, 13, 14, 15, 16, 17, 9, 10, 11, 12, 13, 14, 15, 16, 17, 18, 10, 11, 12, 13, 14, 15, 16, 17, 18, 19, 11, 12, 13, 14, 15, 16, 17, 18, 19, 20, 12, 13, 14, 15, 16, 17, 18, 19, 20, 21, 13, 14, 15, 16, 17, 18, 19, 20, 21, 22, 14, 15, 16, 17, 18, 19, 20, 21, 22, 23, 15, 16, 17, 18, 19, 20, 21, 22, 23, 24, 7, 8, 9, 10, 11, 12, 13, 14, 15, 16, 8, 9, 10, 11, 12, 13, 14, 15, 16, 17, 9, 10, 11, 12, 13, 14, 15, 16, 17, 18, 10, 11, 12, 13, 14, 15, 16, 17, 18, 19, 11, 12, 13, 14, 15, 16, 17, 18, 19, 20, 12, 13, 14, 15, 16, 17, 18, 19, 20, 21, 13, 14, 15, 16, 17, 18, 19, 20, 21, 22, 14, 15, 16, 17, 18, 19, 20, 21, 22, 23, 15, 16, 17, 18, 19, 20, 21, 22, 23, 24, 16, 17, 18, 19, 20, 21, 22, 23, 24, 25, 8, 9, 10, 11, 12, 13, 14, 15, 16, 17, 9, 10, 11, 12, 13, 14, 15, 16, 17, 18, 10, 11, 12, 13, 14, 15, 16, 17, 18, 19, 11, 12, 13, 14, 15, 16, 17, 18, 19, 20, 12, 13, 14, 15, 16, 17, 18, 19, 20, 21, 13, 14, 15, 16, 17, 18, 19, 20, 21, 22, 14, 15, 16, 17, 18, 19, 20, 21, 22, 23, 15, 16, 17, 18, 19, 20, 21, 22, 23, 24, 16, 17, 18, 19, 20, 21, 22, 23, 24, 25, 17, 18, 19, 20, 21, 22, 23, 24, 25, 26, 9, 10, 11, 12, 13, 14, 15, 16, 17, 18, 10, 11, 12, 13, 14, 15, 16, 17, 18, 19, 11, 12, 13, 14, 15, 16, 17, 18, 19, 20, 12, 13, 14, 15, 16, 17, 18, 19, 20, 21, 13, 14, 15, 16, 17, 18, 19, 20, 21, 22, 14, 15, 16, 17, 18, 19, 20, 21, 22, 23, 15, 16, 17, 18, 19, 20, 21, 22, 23, 24, 16, 17, 18, 19, 20, 21, 22, 23, 24, 25, 17, 18, 19, 20, 21, 22, 23, 24, 25, 26, 18, 19, 20, 21, 22, 23, 24, 25, 26, 27, 1]\n"
     ]
    }
   ],
   "source": [
    "# 39. Develop a program that calculates the sum of the digits of numbers from 1 to 1000 using list comprehension.\n",
    "def sum_of_digits(num) :\n",
    "    if len(str(num)) > 1 :\n",
    "        sum_ = 0\n",
    "        for digit in str(num) :\n",
    "            sum_ += int(digit)\n",
    "        return sum_\n",
    "    else :\n",
    "        return num\n",
    "sum_list = [sum_of_digits(i) for i in range(1001)]\n",
    "print(sum_list)"
   ]
  },
  {
   "cell_type": "code",
   "execution_count": 40,
   "id": "532c147b-d22f-4ec8-8126-ec8e090f7048",
   "metadata": {},
   "outputs": [
    {
     "name": "stdout",
     "output_type": "stream",
     "text": [
      "[0, 1, 2, 3, 4, 5, 6, 7, 8, 9, 11, 22, 33, 44, 55, 66, 77, 88, 99]\n"
     ]
    }
   ],
   "source": [
    "# 40. Write a program that generates a list of prime palindromic numbers using list comprehension.\n",
    "def palindrome(num) :\n",
    "    if str(num)[::-1] == str(num) :\n",
    "        return True\n",
    "    return False\n",
    "palindrome_list = [i for i in range(100) if palindrome(i)]\n",
    "print(palindrome_list)"
   ]
  },
  {
   "cell_type": "code",
   "execution_count": null,
   "id": "8a548fd9-6baf-425a-a135-58acfe324234",
   "metadata": {},
   "outputs": [],
   "source": []
  }
 ],
 "metadata": {
  "kernelspec": {
   "display_name": "Python 3 (ipykernel)",
   "language": "python",
   "name": "python3"
  },
  "language_info": {
   "codemirror_mode": {
    "name": "ipython",
    "version": 3
   },
   "file_extension": ".py",
   "mimetype": "text/x-python",
   "name": "python",
   "nbconvert_exporter": "python",
   "pygments_lexer": "ipython3",
   "version": "3.10.8"
  }
 },
 "nbformat": 4,
 "nbformat_minor": 5
}
